{
 "cells": [
  {
   "cell_type": "code",
   "execution_count": 1,
   "metadata": {},
   "outputs": [
    {
     "name": "stdout",
     "output_type": "stream",
     "text": [
      "Welcome to Walmart Smart Shopper! These are the shopping categories offered by Walmart: \n"
     ]
    },
    {
     "data": {
      "text/html": [
       "<img src=\"cat-screenshot.PNG\"/>"
      ],
      "text/plain": [
       "<IPython.core.display.Image object>"
      ]
     },
     "execution_count": 1,
     "metadata": {},
     "output_type": "execute_result"
    }
   ],
   "source": [
    "import pandas as pd\n",
    "import requests\n",
    "import csv\n",
    "import json\n",
    "\n",
    "print(\"Welcome to Walmart Smart Shopper! These are the shopping categories offered by Walmart: \")\n",
    "from IPython.display import Image\n",
    "img = 'cat-screenshot.PNG'\n",
    "Image(url = img)"
   ]
  },
  {
   "cell_type": "code",
   "execution_count": 2,
   "metadata": {},
   "outputs": [
    {
     "name": "stdout",
     "output_type": "stream",
     "text": [
      "Here are today's trending items at Walmart. Type 'yes' if you would like to see these items.yes\n",
      "Super Smash Bros. Ultimate, Nintendo, Nintendo Switch, 045496592998\n",
      "Mortal Kombat 11, Warner Bros., PlayStation 4, 883929668960\n",
      "Everyday Essentials 1/2\" Thick Flooring Puzzle Exercise Mat with High Quality EVA Foam Interlocking Tiles, 12 Piece, 48 Sq Ft, Black\n",
      "Mainstays 0.7 Cu. Ft. 700W White Microwave with 10 Power Levels\n",
      "Hyper Tough 20 in. Briggs & Stratton 125cc Gas Push Lawnmower\n",
      "The Complete Calvin and Hobbes\n",
      "Graco Pack 'n Play Portable Playard, Ashford\n",
      "Ozark Trail 10' x 10' Gazebo Top for Tailgating or Sports Events, Blue\n",
      "Mainstays Steel Folding Chair (4-Pack) in Multiple Colors\n",
      "Intex Twin 18\" Dura-Beam Standard Raised Pillow Rest Airbed Mattress\n",
      "HP DeskJet 2652 Wireless All-in-One Printer (V1N05A)\n",
      "Google Home Hub - Charcoal\n",
      "The LEGO Movie 2: The Second Part (4K Ultra HD + Blu-ray + Digital Copy)\n",
      "Mainstays Solid Turquoise 43 x 20 in. 1 Piece Outdoor Dining Chair Cushion\n",
      "Mainstays 6 Foot Bi-Fold Plastic Folding Table, Multiple Colors\n"
     ]
    }
   ],
   "source": [
    "trend = input(\"Here are today's trending items at Walmart. Type 'yes' if you would like to see these items.\")\n",
    "trend_url = 'http://api.walmartlabs.com/v1/trends?apiKey=pz2kqrk9xcw9bcht6snj29dz&format=xml'\n",
    "params = {'trend': trend}\n",
    "headers = {'API-key': \"pz2kqrk9xcw9bcht6snj29dz\", \"Accept\": \"application/json\"}\n",
    "\n",
    "response = requests.get(trend_url, params=params, headers=headers)\n",
    "trend_data = response.json()\n",
    "\n",
    "for r in trend_data['items']:\n",
    "    print(r['name'])"
   ]
  },
  {
   "cell_type": "code",
   "execution_count": 3,
   "metadata": {},
   "outputs": [
    {
     "name": "stdout",
     "output_type": "stream",
     "text": [
      "If you would like to see smartphones, please search for 'smartphone'. smartphone\n",
      "Straight Talk Apple iPhone 6s Prepaid Smartphone with 32GB, Space Gray\n",
      "Walmart Family Mobile Alcatel Raven Prepaid Smartphone\n",
      "Straight Talk Samsung Galaxy J7 Crown Prepaid Smartphone\n",
      "Walmart Family Mobile Apple iPhone 6s 32GB Prepaid Smartphone, Space Gray\n",
      "Straight Talk Samsung Galaxy J3 Orbit Prepaid Smartphone\n",
      "Boost Mobile LG Tribute Dynasty 16GB Prepaid Smartphone, Silver\n",
      "AT&T PREPAID LG Phoenix 4 16GB Prepaid Smartphone, Black – Get UNLIMITED DATA. Details below.\n",
      "Apple iPhone 5 - Smartphone - 4G LTE - 16 GB - CDMA / GSM - 4\" - 1136 x 640 pixels (326 ppi) - Retina - 8 MP - Verizon - black & slate\n",
      "Seller Refurbished Apple iPhone 6 Plus 64GB Unlocked GSM iOS Smartphone Black Silver Gold (Space Gray/Black)\n",
      "Boost Mobile LG Stylo 4 32GB Prepaid Smartphone, Black\n"
     ]
    }
   ],
   "source": [
    "import requests\n",
    "\n",
    "buy = input(\"If you would like to see smartphones, please search for 'smartphone'. \")\n",
    "buy_url = 'http://api.walmartlabs.com/v1/search?apiKey=pz2kqrk9xcw9bcht6snj29dz&query=smartphone'\n",
    "params = {'buy': buy}\n",
    "headers = {'API-key': \"pz2kqrk9xcw9bcht6snj29dz\", \"Accept\": \"application/json\"}\n",
    "\n",
    "response = requests.get(buy_url, params=params, headers=headers)\n",
    "buy_data = response.json()\n",
    "##print(\"Here's a list of all of the options you could purchase for \", buy_data)\n",
    "for r in buy_data['items']:\n",
    "    print(r['name'])"
   ]
  },
  {
   "cell_type": "code",
   "execution_count": 4,
   "metadata": {},
   "outputs": [
    {
     "name": "stdout",
     "output_type": "stream",
     "text": [
      "Here is your searched item, sorted from lowest to highest price. \n",
      "TracFone Alcatel TCL LX Prepaid Smartphone\n",
      "29.88\n",
      "Verizon Wireless Nokia 2V 8GB Prepaid Smartphone, Black\n",
      "39.88\n",
      "Slide Unlocked Dual SIM 5\" Android 6.0 Smartphone, Quad Core 1.0GHz Processor, 1GB RAM, 8GB ROM, Worldwide 3G GSM Coverage- Black\n",
      "44.99\n",
      "TracFone LG Rebel 4G LTE GSM Prepaid Smartphone\n",
      "46.9\n",
      "BLU Vivo 5 Mini V050Q - Smartphone - dual-SIM - 3G - 8 GB - microSDHC slot, - microSDXC slot - GSM - 4\" - 480 x 800 pixels (233 ppi) - IPS - RAM 512 MB - 5 MP (3.2 MP front camera) - Android - black\n",
      "49.95\n",
      "Net10 Samsung J3 Orbit Prepaid Smartphone\n",
      "52.61\n",
      "New AVID 4 ZTE Z855 16GB 4G LTE (AT&T) GSM GLOBAL UNLOCKED Smartphone - Blue\n",
      "64.07\n",
      "Apple iPhone 5s Unlocked LTE Smartphone - 16GB - Gray (Refurbished)\n",
      "74.5\n",
      "Kyocera DuraForce E6560 16GB Unlocked GSM 4G LTE Military Grade Smartphone w/ 8MP Camera - Black\n",
      "74.98\n",
      "ASUS ZenFone 5 V A006 V520KL 32GB Black Verizon Unlocked Smartphone Cell Phone - Excellent\n",
      "99.99\n"
     ]
    }
   ],
   "source": [
    "price_preference = print(\"Here is your searched item, sorted from lowest to highest price. \")\n",
    "price_url = 'http://api.walmartlabs.com/v1/search?apiKey=pz2kqrk9xcw9bcht6snj29dz&query=smartphone&sort=price&order=asc'\n",
    "params = {'price_preference': price_preference}\n",
    "headers = {'API-key': \"pz2kqrk9xcw9bcht6snj29dz\", \"Accept\": \"application/json\"}\n",
    "response = requests.get(price_url, params=params, headers=headers)\n",
    "price_data = response.json()\n",
    "##price_data\n",
    "for r in price_data['items']:\n",
    "    print(r['name'])\n",
    "    print(r['salePrice'])"
   ]
  },
  {
   "cell_type": "code",
   "execution_count": 8,
   "metadata": {},
   "outputs": [],
   "source": [
    "import folium\n",
    "import pandas as pd\n",
    "\n",
    "#CENTER_US = (43.088947, -76.154480)\n",
    "#map = folium.Map(location = CENTER_US, zoom_start = 12)\n",
    "#map\n",
    "\n",
    "#wal_location = pd.read_csv('cusewalmart.csv')\n",
    "#wal_location.sample()"
   ]
  },
  {
   "cell_type": "code",
   "execution_count": 10,
   "metadata": {},
   "outputs": [
    {
     "name": "stdout",
     "output_type": "stream",
     "text": [
      "Here is the map of Syracuse, and the nearest Walmart locations.\n"
     ]
    },
    {
     "data": {
      "text/html": [
       "<div style=\"width:100%;\"><div style=\"position:relative;width:100%;height:0;padding-bottom:60%;\"><iframe src=\"data:text/html;charset=utf-8;base64,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\" style=\"position:absolute;width:100%;height:100%;left:0;top:0;border:none !important;\" allowfullscreen webkitallowfullscreen mozallowfullscreen></iframe></div></div>"
      ],
      "text/plain": [
       "<folium.folium.Map at 0x25077cfcda0>"
      ]
     },
     "execution_count": 10,
     "metadata": {},
     "output_type": "execute_result"
    }
   ],
   "source": [
    "print(\"Here is the map of Syracuse, and the nearest Walmart locations.\")\n",
    "map2 = folium.Map(location=CENTER_US, zoom_start=12)\n",
    "for row in wal_location.to_records():\n",
    "    pos = (43.088947, -76.154480)\n",
    "    marker = folium.Marker(location=pos \n",
    "                    #popup=message\n",
    "                          )\n",
    "    map2.add_child(marker)\n",
    "map2"
   ]
  },
  {
   "cell_type": "code",
   "execution_count": 11,
   "metadata": {},
   "outputs": [
    {
     "name": "stdout",
     "output_type": "stream",
     "text": [
      "Enjoy your smartphone ! Thank you for shopping at Walmart!\n"
     ]
    }
   ],
   "source": [
    "print(\"Enjoy your\", buy, \"! Thank you for shopping at Walmart!\")"
   ]
  },
  {
   "cell_type": "code",
   "execution_count": null,
   "metadata": {},
   "outputs": [],
   "source": []
  }
 ],
 "metadata": {
  "kernelspec": {
   "display_name": "Python 3",
   "language": "python",
   "name": "python3"
  },
  "language_info": {
   "codemirror_mode": {
    "name": "ipython",
    "version": 3
   },
   "file_extension": ".py",
   "mimetype": "text/x-python",
   "name": "python",
   "nbconvert_exporter": "python",
   "pygments_lexer": "ipython3",
   "version": "3.6.6"
  }
 },
 "nbformat": 4,
 "nbformat_minor": 2
}
