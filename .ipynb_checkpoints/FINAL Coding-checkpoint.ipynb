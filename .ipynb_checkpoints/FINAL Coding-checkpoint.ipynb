{
 "cells": [
  {
   "cell_type": "code",
   "execution_count": 1,
   "metadata": {},
   "outputs": [
    {
     "name": "stdout",
     "output_type": "stream",
     "text": [
      "Welcome to Walmart Smart Shopper! These are the shopping categories offered by Walmart: \n"
     ]
    },
    {
     "data": {
      "text/html": [
       "<img src=\"cat-screenshot.PNG\"/>"
      ],
      "text/plain": [
       "<IPython.core.display.Image object>"
      ]
     },
     "execution_count": 1,
     "metadata": {},
     "output_type": "execute_result"
    }
   ],
   "source": [
    "import pandas as pd\n",
    "import requests\n",
    "import csv\n",
    "import json\n",
    "\n",
    "print(\"Welcome to Walmart Smart Shopper! These are the shopping categories offered by Walmart: \")\n",
    "from IPython.display import Image\n",
    "img = 'cat-screenshot.PNG'\n",
    "Image(url = img)"
   ]
  },
  {
   "cell_type": "code",
   "execution_count": 2,
   "metadata": {},
   "outputs": [
    {
     "name": "stdout",
     "output_type": "stream",
     "text": [
      "Here are today's trending items at Walmart. Type 'yes' if you would like to see these items.yes\n",
      "Ozark Trail Premium Jumbo Tote, Gray\n",
      "Peerless Single Handle Pull-Down Sprayer Kitchen Faucet with Soap Dispenser in Stainless P88121LF-SD-W\n",
      "Dell Inspiron 15 5579 Laptop, 15.6\", Intel® Core™ i5-8250U, Intel® UHD Graphics 620, 1TB HDD, 8GB RAM, i5579-5930GRY-PUS\n",
      "Google Home Hub - Charcoal\n",
      "Infantino Cuddle Up Ergonomic Hoodie Fox Carrier\n",
      "Better Homes & Gardens Brushstroke 16 Piece Dinnerware Set\n",
      "RCA Beverage Center Black - Fits 101 Cans or 24 Wine Bottles RMIS2434\n",
      "Boys' Minecraft 4 Piece Pajama Sleep Set (Little Boy & Big Boy)\n",
      "Aibecy Handheld 2.4G Wireless 1D/2D/QR Barcode Scanner Bar Code Reader with USB Receiver 4000 Code Storage Capacity for POS PC Android IOS\n",
      "Women's Parker Flare Crop Jean\n",
      "Women's Maddy Jean with Side Stripe\n",
      "Lenovo Tab E7, 7\" Android Tablet, Quad-Core Processor, 8GB Storage, Slate Black\n",
      "Arctic King 10,000 BTU Window Air Conditioner\n",
      "Zimtown Nature Bamboo 4 Tier Shoes Rack Storage Organizer 12-Batten Free Standing Shoes Tower\n",
      "Keurig K-Select Single Serve, K-Cup Pod Coffee Maker, Matte White\n"
     ]
    }
   ],
   "source": [
    "trend = input(\"Here are today's trending items at Walmart. Type 'yes' if you would like to see these items.\")\n",
    "trend_url = 'http://api.walmartlabs.com/v1/trends?apiKey=pz2kqrk9xcw9bcht6snj29dz&format=xml'\n",
    "params = {'trend': trend}\n",
    "headers = {'API-key': \"pz2kqrk9xcw9bcht6snj29dz\", \"Accept\": \"application/json\"}\n",
    "\n",
    "response = requests.get(trend_url, params=params, headers=headers)\n",
    "trend_data = response.json()\n",
    "\n",
    "for r in trend_data['items']:\n",
    "    print(r['name'])"
   ]
  },
  {
   "cell_type": "code",
   "execution_count": 4,
   "metadata": {},
   "outputs": [
    {
     "name": "stdout",
     "output_type": "stream",
     "text": [
      "What item are you looking for? cowboy hats\n",
      "School Sprit Felt Cowboy Hat, Black\n",
      "School Sprit Felt Cowboy Hat, Brown\n",
      "Turquoise Beads Cowboy Hat\n",
      "Time and Tru Women's Faux Suede Strap Cowboy Hat\n",
      "Adult Straw Cowboy Hat\n",
      "Women's Ball Chain and Bead Cowboy Hat\n",
      "Women's Shell Trim Cowboy Hat\n",
      "Men Faux Suede Adjtable Neck Strap Western Style Sunhat Cowboy Hat Cap\n",
      "Junior Cowboy Hat With Bandanna\n",
      "Top Headwear Outback Toyo Cowboy Hat\n"
     ]
    }
   ],
   "source": [
    "import requests\n",
    "\n",
    "buy = input(\"What item are you looking for? \")\n",
    "buy_url = ('http://api.walmartlabs.com/v1/search?apiKey=pz2kqrk9xcw9bcht6snj29dz&query=%s' % (buy))\n",
    "params = {'buy': buy}\n",
    "headers = {'API-key': \"pz2kqrk9xcw9bcht6snj29dz\", \"Accept\": \"application/json\"}\n",
    "\n",
    "response = requests.get(buy_url, params=params, headers=headers)\n",
    "buy_data = response.json()\n",
    "##print(\"Here's a list of all of the options you could purchase for \", buy_data)\n",
    "for r in buy_data['items']:\n",
    "    print(r['name'])"
   ]
  },
  {
   "cell_type": "code",
   "execution_count": 5,
   "metadata": {
    "scrolled": true
   },
   "outputs": [
    {
     "name": "stdout",
     "output_type": "stream",
     "text": [
      "Here is your searched item, sorted from lowest to highest price. \n",
      "New Men's Women's Stained Brown Woven Straw Cowboy Hat (2 pack)\n",
      "11.15\n",
      "Men Summer Wide Brim Western Style Camouflage Mesh Cap Net Sunhat Cowboy Hat #1\n",
      "8.59\n",
      "Child Cowboy Cowgirl Hat Toy Story Jessie Woody Western Costume Accessory 1950'S\n",
      "9.23\n",
      "Summer Outdoor Linen Wide Brim Western Style Beach Sunhat Cowboy Hat\n",
      "8.89\n",
      "Summer Straw Braided Faux Leather Band Western Style Sunhat Cowboy Hat\n",
      "9.07\n",
      "Women's Ball Chain and Bead Cowboy Hat\n",
      "8.97\n",
      "Turquoise Beads Cowboy Hat\n",
      "8.97\n",
      "Women's Shell Trim Cowboy Hat\n",
      "8.97\n",
      "Men Summer Straw Braided Wide Brim Western Style Beach Sunhat Cowboy Hat\n",
      "8.89\n",
      "Men Straw Braided Faux Leather Band Decor Western Style Sunhat Cowboy Hat\n",
      "9.19\n"
     ]
    }
   ],
   "source": [
    "price_preference = print(\"Here is your searched item, sorted from lowest to highest price. \")\n",
    "price_url = (('http://api.walmartlabs.com/v1/search?apiKey=pz2kqrk9xcw9bcht6snj29dz&query=%s&sort=price&order=asc') % buy)\n",
    "params = {'price_preference': price_preference}\n",
    "headers = {'API-key': \"pz2kqrk9xcw9bcht6snj29dz\", \"Accept\": \"application/json\"}\n",
    "response = requests.get(price_url, params=params, headers=headers)\n",
    "price_data = response.json()\n",
    "##price_data\n",
    "for r in price_data['items']:\n",
    "    print(r['name'])\n",
    "    print(r['salePrice'])"
   ]
  },
  {
   "cell_type": "code",
   "execution_count": 6,
   "metadata": {},
   "outputs": [
    {
     "name": "stdout",
     "output_type": "stream",
     "text": [
      "Here is the name of your nearest Walmart.\n"
     ]
    },
    {
     "data": {
      "text/html": [
       "<div>\n",
       "<style scoped>\n",
       "    .dataframe tbody tr th:only-of-type {\n",
       "        vertical-align: middle;\n",
       "    }\n",
       "\n",
       "    .dataframe tbody tr th {\n",
       "        vertical-align: top;\n",
       "    }\n",
       "\n",
       "    .dataframe thead th {\n",
       "        text-align: right;\n",
       "    }\n",
       "</style>\n",
       "<table border=\"1\" class=\"dataframe\">\n",
       "  <thead>\n",
       "    <tr style=\"text-align: right;\">\n",
       "      <th></th>\n",
       "      <th>name</th>\n",
       "      <th>Lat</th>\n",
       "      <th>Long</th>\n",
       "      <th>streetAddress</th>\n",
       "      <th>city</th>\n",
       "      <th>stateProvCode</th>\n",
       "      <th>zip</th>\n",
       "    </tr>\n",
       "  </thead>\n",
       "  <tbody>\n",
       "    <tr>\n",
       "      <th>0</th>\n",
       "      <td>East Syracuse Supercenter</td>\n",
       "      <td>43.060842</td>\n",
       "      <td>-76.060077</td>\n",
       "      <td>6438 Basile Rowe</td>\n",
       "      <td>East Syracuse</td>\n",
       "      <td>NY</td>\n",
       "      <td>13057</td>\n",
       "    </tr>\n",
       "  </tbody>\n",
       "</table>\n",
       "</div>"
      ],
      "text/plain": [
       "                        name        Lat       Long     streetAddress  \\\n",
       "0  East Syracuse Supercenter  43.060842 -76.060077  6438 Basile Rowe   \n",
       "\n",
       "            city  stateProvCode    zip  \n",
       "0  East Syracuse             NY  13057  "
      ]
     },
     "execution_count": 6,
     "metadata": {},
     "output_type": "execute_result"
    }
   ],
   "source": [
    "import folium\n",
    "import pandas as pd\n",
    "\n",
    "CENTER_US = (43.088947, -76.154480)\n",
    "#map = folium.Map(location = CENTER_US, zoom_start = 12)\n",
    "#map\n",
    "print(\"Here is the name of your nearest Walmart.\")\n",
    "wal_location = pd.read_csv('cusewalmart.csv')\n",
    "wal_location.sample()"
   ]
  },
  {
   "cell_type": "code",
   "execution_count": 7,
   "metadata": {},
   "outputs": [
    {
     "name": "stdout",
     "output_type": "stream",
     "text": [
      "Here is the map of Syracuse, and the nearest Walmart locations.\n"
     ]
    },
    {
     "data": {
      "text/html": [
       "<div style=\"width:100%;\"><div style=\"position:relative;width:100%;height:0;padding-bottom:60%;\"><iframe src=\"data:text/html;charset=utf-8;base64,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\" style=\"position:absolute;width:100%;height:100%;left:0;top:0;border:none !important;\" allowfullscreen webkitallowfullscreen mozallowfullscreen></iframe></div></div>"
      ],
      "text/plain": [
       "<folium.folium.Map at 0x275745c7cf8>"
      ]
     },
     "execution_count": 7,
     "metadata": {},
     "output_type": "execute_result"
    }
   ],
   "source": [
    "print(\"Here is the map of Syracuse, and the nearest Walmart locations.\")\n",
    "map2 = folium.Map(location=CENTER_US, zoom_start=12)\n",
    "for row in wal_location.to_records():\n",
    "    pos = (43.088947, -76.154480)\n",
    "    marker = folium.Marker(location=pos \n",
    "                    #popup=message\n",
    "                          )\n",
    "    map2.add_child(marker)\n",
    "map2"
   ]
  },
  {
   "cell_type": "code",
   "execution_count": 8,
   "metadata": {},
   "outputs": [
    {
     "name": "stdout",
     "output_type": "stream",
     "text": [
      "Enjoy your cowboy hats ! Thank you for shopping at Walmart!\n"
     ]
    }
   ],
   "source": [
    "print(\"Enjoy your\", buy, \"! Thank you for shopping at Walmart!\")"
   ]
  },
  {
   "cell_type": "code",
   "execution_count": null,
   "metadata": {},
   "outputs": [],
   "source": []
  }
 ],
 "metadata": {
  "kernelspec": {
   "display_name": "Python 3",
   "language": "python",
   "name": "python3"
  },
  "language_info": {
   "codemirror_mode": {
    "name": "ipython",
    "version": 3
   },
   "file_extension": ".py",
   "mimetype": "text/x-python",
   "name": "python",
   "nbconvert_exporter": "python",
   "pygments_lexer": "ipython3",
   "version": "3.6.6"
  }
 },
 "nbformat": 4,
 "nbformat_minor": 2
}
