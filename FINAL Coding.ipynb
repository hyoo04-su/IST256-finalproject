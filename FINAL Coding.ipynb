{
 "cells": [
  {
   "cell_type": "code",
   "execution_count": null,
   "metadata": {},
   "outputs": [],
   "source": [
    "import pandas as pd\n",
    "import requests\n",
    "import csv\n",
    "import json\n",
    "\n",
    "print(\"Welcome to Walmart Smart Shopper! These are the shopping categories offered by Walmart: \")\n",
    "from IPython.display import Image\n",
    "img = 'cat-screenshot.PNG'\n",
    "Image(url = img)"
   ]
  },
  {
   "cell_type": "code",
   "execution_count": null,
   "metadata": {},
   "outputs": [],
   "source": [
    "trend = input(\"Here are today's trending items at Walmart. Type 'yes' if you would like to see these items.\")\n",
    "trend_url = 'http://api.walmartlabs.com/v1/trends?apiKey=pz2kqrk9xcw9bcht6snj29dz&format=xml'\n",
    "params = {'trend': trend}\n",
    "headers = {'API-key': \"pz2kqrk9xcw9bcht6snj29dz\", \"Accept\": \"application/json\"}\n",
    "\n",
    "response = requests.get(trend_url, params=params, headers=headers)\n",
    "trend_data = response.json()\n",
    "\n",
    "for r in trend_data['items']:\n",
    "    print(r['name'])"
   ]
  },
  {
   "cell_type": "code",
   "execution_count": null,
   "metadata": {},
   "outputs": [],
   "source": [
    "import requests\n",
    "\n",
    "buy = input(\"What item are you looking for? \")\n",
    "buy_url = ('http://api.walmartlabs.com/v1/search?apiKey=pz2kqrk9xcw9bcht6snj29dz&query=%s' % (buy))\n",
    "params = {'buy': buy}\n",
    "headers = {'API-key': \"pz2kqrk9xcw9bcht6snj29dz\", \"Accept\": \"application/json\"}\n",
    "\n",
    "response = requests.get(buy_url, params=params, headers=headers)\n",
    "buy_data = response.json()\n",
    "##print(\"Here's a list of all of the options you could purchase for \", buy_data)\n",
    "for r in buy_data['items']:\n",
    "    print(r['name'])"
   ]
  },
  {
   "cell_type": "code",
   "execution_count": null,
   "metadata": {
    "scrolled": true
   },
   "outputs": [],
   "source": [
    "price_preference = print(\"Here is your searched item, sorted from lowest to highest price. \")\n",
    "price_url = (('http://api.walmartlabs.com/v1/search?apiKey=pz2kqrk9xcw9bcht6snj29dz&query=%s&sort=price&order=asc') % buy)\n",
    "params = {'price_preference': price_preference}\n",
    "headers = {'API-key': \"pz2kqrk9xcw9bcht6snj29dz\", \"Accept\": \"application/json\"}\n",
    "response = requests.get(price_url, params=params, headers=headers)\n",
    "price_data = response.json()\n",
    "##price_data\n",
    "for r in price_data['items']:\n",
    "    print(r['name'])\n",
    "    print(r['salePrice'])"
   ]
  },
  {
   "cell_type": "code",
   "execution_count": null,
   "metadata": {},
   "outputs": [],
   "source": [
    "import folium\n",
    "import pandas as pd\n",
    "\n",
    "CENTER_US = (43.088947, -76.154480)\n",
    "#map = folium.Map(location = CENTER_US, zoom_start = 12)\n",
    "#map\n",
    "print(\"Here is the name of your nearest Walmart.\")\n",
    "wal_location = pd.read_csv('cusewalmart.csv')\n",
    "wal_location.sample()"
   ]
  },
  {
   "cell_type": "code",
   "execution_count": null,
   "metadata": {},
   "outputs": [],
   "source": [
    "print(\"Here is the map of Syracuse, and the nearest Walmart locations.\")\n",
    "map2 = folium.Map(location=CENTER_US, zoom_start=12)\n",
    "for row in wal_location.to_records():\n",
    "    pos = (43.088947, -76.154480)\n",
    "    marker = folium.Marker(location=pos \n",
    "                    #popup=message\n",
    "                          )\n",
    "    map2.add_child(marker)\n",
    "map2"
   ]
  },
  {
   "cell_type": "code",
   "execution_count": null,
   "metadata": {},
   "outputs": [],
   "source": [
    "print(\"Enjoy your\", buy, \"! Thank you for shopping at Walmart!\")"
   ]
  },
  {
   "cell_type": "code",
   "execution_count": null,
   "metadata": {},
   "outputs": [],
   "source": []
  }
 ],
 "metadata": {
  "kernelspec": {
   "display_name": "Python 3",
   "language": "python",
   "name": "python3"
  },
  "language_info": {
   "codemirror_mode": {
    "name": "ipython",
    "version": 3
   },
   "file_extension": ".py",
   "mimetype": "text/x-python",
   "name": "python",
   "nbconvert_exporter": "python",
   "pygments_lexer": "ipython3",
   "version": "3.6.6"
  }
 },
 "nbformat": 4,
 "nbformat_minor": 2
}
