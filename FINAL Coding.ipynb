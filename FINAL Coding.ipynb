{
 "cells": [
  {
   "cell_type": "code",
   "execution_count": 1,
   "metadata": {},
   "outputs": [
    {
     "name": "stdout",
     "output_type": "stream",
     "text": [
      "Welcome to Walmart Smart Shopper! These are the shopping categories offered by Walmart: \n"
     ]
    },
    {
     "data": {
      "text/html": [
       "<img src=\"cat-screenshot.PNG\"/>"
      ],
      "text/plain": [
       "<IPython.core.display.Image object>"
      ]
     },
     "execution_count": 1,
     "metadata": {},
     "output_type": "execute_result"
    }
   ],
   "source": [
    "import pandas as pd\n",
    "import requests\n",
    "import csv\n",
    "import json\n",
    "\n",
    "print(\"Welcome to Walmart Smart Shopper! These are the shopping categories offered by Walmart: \")\n",
    "from IPython.display import Image\n",
    "img = 'cat-screenshot.PNG'\n",
    "Image(url = img)"
   ]
  },
  {
   "cell_type": "code",
   "execution_count": 2,
   "metadata": {},
   "outputs": [
    {
     "name": "stdout",
     "output_type": "stream",
     "text": [
      "Here are today's trending items at Walmart. Type 'yes' if you would like to see these items.yes\n",
      "Radio Flyer Folding Trike\n",
      "Mainstays Memory Foam Pillowtop Futon with Cupholder, Multiple Colors\n",
      "Roadmaster Granite Peak Women's Mountain Bike, 26\" wheels, Grey\n",
      "Mortal Kombat 11, Warner Bros., PlayStation 4, 883929668960\n",
      "Better Homes and Gardens 2 Cube Storage Organizer, Multiple Colors\n",
      "The Lego Movie 2: The Second Part (Walmart Exclusive) (Lego Minifigure + Blu-ray + DVD + Digital Copy)\n",
      "Mainstays Memory Foam Futon, Multiple Finishes\n",
      "PediaSure Grow & Gain Non-GMO Shake Mix Powder, Nutritional Shake For Kids, With Protein, DHA, Antioxidants, and Vitamins & Minerals, Chocolate, 14.1 oz, 6-Count\n",
      "Original Bed Bug Blocker Zippered Mattress Cover Protector\n",
      "The Pioneer Woman Cowboy Rustic Cutlery Set, 14-Piece\n",
      "Intex Twin 18\" Dura-Beam Standard Raised Pillow Rest Airbed Mattress\n",
      "Ninja 4-Quart Air Fryer, AF100\n",
      "Mainstays Berry Collection Multicolored Stoneware Dinnerware Set, 12 Count\n",
      "Evenflo LiteMax Infant Car Seat Base, Black\n",
      "Graco Pack 'n Play Portable Playard, Ashford\n"
     ]
    }
   ],
   "source": [
    "trend = input(\"Here are today's trending items at Walmart. Type 'yes' if you would like to see these items.\")\n",
    "trend_url = 'http://api.walmartlabs.com/v1/trends?apiKey=pz2kqrk9xcw9bcht6snj29dz&format=xml'\n",
    "params = {'trend': trend}\n",
    "headers = {'API-key': \"pz2kqrk9xcw9bcht6snj29dz\", \"Accept\": \"application/json\"}\n",
    "\n",
    "response = requests.get(trend_url, params=params, headers=headers)\n",
    "trend_data = response.json()\n",
    "\n",
    "for r in trend_data['items']:\n",
    "    print(r['name'])"
   ]
  },
  {
   "cell_type": "code",
   "execution_count": 3,
   "metadata": {},
   "outputs": [
    {
     "name": "stdout",
     "output_type": "stream",
     "text": [
      "If you would like to see smartphones, please search for 'smartphone'. smartphone\n",
      "Straight Talk Apple iPhone 6s Prepaid Smartphone with 32GB, Space Gray\n",
      "Walmart Family Mobile Alcatel Raven Prepaid Smartphone\n",
      "Total Wireless Samsung Galaxy J7 Crown Prepaid Smartphone\n",
      "Walmart Family Mobile Apple iPhone 6s 32GB Prepaid Smartphone, Space Gray\n",
      "Boost Mobile LG Tribute Dynasty 16GB Prepaid Smartphone, Silver\n",
      "Straight Talk Samsung Galaxy J7 Crown Prepaid Smartphone\n",
      "AT&T PREPAID LG Phoenix 4 16GB Prepaid Smartphone, Black – Get UNLIMITED DATA. Details below.\n",
      "Apple iPhone 5 - Smartphone - 4G LTE - 16 GB - CDMA / GSM - 4\" - 1136 x 640 pixels (326 ppi) - Retina - 8 MP - Verizon - black & slate\n",
      "Boost Mobile LG Stylo 4 32GB Prepaid Smartphone, Black\n",
      "Straight Talk Samsung Galaxy J7 Sky Pro 16GB LTE, No Contract Prepaid SmartPhone, Black\n"
     ]
    }
   ],
   "source": [
    "import requests\n",
    "\n",
    "buy = input(\"If you would like to see smartphones, please search for 'smartphone'. \")\n",
    "buy_url = 'http://api.walmartlabs.com/v1/search?apiKey=pz2kqrk9xcw9bcht6snj29dz&query=smartphone'\n",
    "params = {'buy': buy}\n",
    "headers = {'API-key': \"pz2kqrk9xcw9bcht6snj29dz\", \"Accept\": \"application/json\"}\n",
    "\n",
    "response = requests.get(buy_url, params=params, headers=headers)\n",
    "buy_data = response.json()\n",
    "##print(\"Here's a list of all of the options you could purchase for \", buy_data)\n",
    "for r in buy_data['items']:\n",
    "    print(r['name'])"
   ]
  },
  {
   "cell_type": "code",
   "execution_count": 4,
   "metadata": {},
   "outputs": [
    {
     "name": "stdout",
     "output_type": "stream",
     "text": [
      "Here is your searched item, sorted from lowest to highest price. \n",
      "TracFone Alcatel TCL LX Prepaid Smartphone\n",
      "29.88\n",
      "Slide Unlocked Dual SIM 4\" Android 5.1 Smartphone, Quad Core 1.3GHz Processor, 512MB RAM, 8GB ROM, Worldwide 3G GSM Coverage- Black\n",
      "34.95\n",
      "Verizon Wireless Nokia 2V 8GB Prepaid Smartphone, Black\n",
      "39.88\n",
      "Slide Unlocked Dual SIM 5\" Android 6.0 Smartphone, Quad Core 1.0GHz Processor, 1GB RAM, 8GB ROM, Worldwide 3G GSM Coverage- Black\n",
      "44.99\n",
      "TracFone LG Rebel 4G LTE GSM Prepaid Smartphone\n",
      "46.9\n",
      "BLU Vivo 5 Mini V050Q - Smartphone - dual-SIM - 3G - 8 GB - microSDHC slot, - microSDXC slot - GSM - 4\" - 480 x 800 pixels (233 ppi) - IPS - RAM 512 MB - 5 MP (3.2 MP front camera) - Android - black\n",
      "49.95\n",
      "Net10 Samsung J3 Orbit Prepaid Smartphone\n",
      "52.61\n",
      "New AVID 4 ZTE Z855 16GB 4G LTE (AT&T) GSM GLOBAL UNLOCKED Smartphone - Blue\n",
      "64.07\n",
      "Apple iPhone 5s Unlocked LTE Smartphone - 16GB - Gray (Refurbished)\n",
      "74.5\n",
      "Kyocera DuraForce E6560 16GB Unlocked GSM 4G LTE Military Grade Smartphone w/ 8MP Camera - Black\n",
      "74.98\n"
     ]
    }
   ],
   "source": [
    "price_preference = print(\"Here is your searched item, sorted from lowest to highest price. \")\n",
    "price_url = 'http://api.walmartlabs.com/v1/search?apiKey=pz2kqrk9xcw9bcht6snj29dz&query=smartphone&sort=price&order=asc'\n",
    "params = {'price_preference': price_preference}\n",
    "headers = {'API-key': \"pz2kqrk9xcw9bcht6snj29dz\", \"Accept\": \"application/json\"}\n",
    "response = requests.get(price_url, params=params, headers=headers)\n",
    "price_data = response.json()\n",
    "##price_data\n",
    "for r in price_data['items']:\n",
    "    print(r['name'])\n",
    "    print(r['salePrice'])"
   ]
  },
  {
   "cell_type": "code",
   "execution_count": 5,
   "metadata": {},
   "outputs": [
    {
     "name": "stdout",
     "output_type": "stream",
     "text": [
      "Here is the name of your nearest Walmart.\n"
     ]
    },
    {
     "data": {
      "text/html": [
       "<div>\n",
       "<style scoped>\n",
       "    .dataframe tbody tr th:only-of-type {\n",
       "        vertical-align: middle;\n",
       "    }\n",
       "\n",
       "    .dataframe tbody tr th {\n",
       "        vertical-align: top;\n",
       "    }\n",
       "\n",
       "    .dataframe thead th {\n",
       "        text-align: right;\n",
       "    }\n",
       "</style>\n",
       "<table border=\"1\" class=\"dataframe\">\n",
       "  <thead>\n",
       "    <tr style=\"text-align: right;\">\n",
       "      <th></th>\n",
       "      <th>name</th>\n",
       "      <th>Lat</th>\n",
       "      <th>Long</th>\n",
       "      <th>streetAddress</th>\n",
       "      <th>city</th>\n",
       "      <th>stateProvCode</th>\n",
       "      <th>zip</th>\n",
       "    </tr>\n",
       "  </thead>\n",
       "  <tbody>\n",
       "    <tr>\n",
       "      <th>0</th>\n",
       "      <td>East Syracuse Supercenter</td>\n",
       "      <td>43.060842</td>\n",
       "      <td>-76.060077</td>\n",
       "      <td>6438 Basile Rowe</td>\n",
       "      <td>East Syracuse</td>\n",
       "      <td>NY</td>\n",
       "      <td>13057</td>\n",
       "    </tr>\n",
       "  </tbody>\n",
       "</table>\n",
       "</div>"
      ],
      "text/plain": [
       "                        name        Lat       Long     streetAddress  \\\n",
       "0  East Syracuse Supercenter  43.060842 -76.060077  6438 Basile Rowe   \n",
       "\n",
       "            city  stateProvCode    zip  \n",
       "0  East Syracuse             NY  13057  "
      ]
     },
     "execution_count": 5,
     "metadata": {},
     "output_type": "execute_result"
    }
   ],
   "source": [
    "import folium\n",
    "import pandas as pd\n",
    "\n",
    "CENTER_US = (43.088947, -76.154480)\n",
    "#map = folium.Map(location = CENTER_US, zoom_start = 12)\n",
    "#map\n",
    "print(\"Here is the name of your nearest Walmart.\")\n",
    "wal_location = pd.read_csv('cusewalmart.csv')\n",
    "wal_location.sample()"
   ]
  },
  {
   "cell_type": "code",
   "execution_count": 6,
   "metadata": {},
   "outputs": [
    {
     "name": "stdout",
     "output_type": "stream",
     "text": [
      "Here is the map of Syracuse, and the nearest Walmart locations.\n"
     ]
    },
    {
     "data": {
      "text/html": [
       "<div style=\"width:100%;\"><div style=\"position:relative;width:100%;height:0;padding-bottom:60%;\"><iframe src=\"data:text/html;charset=utf-8;base64,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\" style=\"position:absolute;width:100%;height:100%;left:0;top:0;border:none !important;\" allowfullscreen webkitallowfullscreen mozallowfullscreen></iframe></div></div>"
      ],
      "text/plain": [
       "<folium.folium.Map at 0x15c7be9dd68>"
      ]
     },
     "execution_count": 6,
     "metadata": {},
     "output_type": "execute_result"
    }
   ],
   "source": [
    "print(\"Here is the map of Syracuse, and the nearest Walmart locations.\")\n",
    "map2 = folium.Map(location=CENTER_US, zoom_start=12)\n",
    "for row in wal_location.to_records():\n",
    "    pos = (43.088947, -76.154480)\n",
    "    marker = folium.Marker(location=pos \n",
    "                    #popup=message\n",
    "                          )\n",
    "    map2.add_child(marker)\n",
    "map2"
   ]
  },
  {
   "cell_type": "code",
   "execution_count": 7,
   "metadata": {},
   "outputs": [
    {
     "name": "stdout",
     "output_type": "stream",
     "text": [
      "Enjoy your smartphone ! Thank you for shopping at Walmart!\n"
     ]
    }
   ],
   "source": [
    "print(\"Enjoy your\", buy, \"! Thank you for shopping at Walmart!\")"
   ]
  },
  {
   "cell_type": "code",
   "execution_count": null,
   "metadata": {},
   "outputs": [],
   "source": []
  }
 ],
 "metadata": {
  "kernelspec": {
   "display_name": "Python 3",
   "language": "python",
   "name": "python3"
  },
  "language_info": {
   "codemirror_mode": {
    "name": "ipython",
    "version": 3
   },
   "file_extension": ".py",
   "mimetype": "text/x-python",
   "name": "python",
   "nbconvert_exporter": "python",
   "pygments_lexer": "ipython3",
   "version": "3.6.6"
  }
 },
 "nbformat": 4,
 "nbformat_minor": 2
}
